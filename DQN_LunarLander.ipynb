{
 "cells": [
  {
   "cell_type": "markdown",
   "id": "26be3725",
   "metadata": {},
   "source": [
    "# DQN Implementation for LunarLander-v2\n",
    "\n",
    "This notebook demonstrates how to implement a Deep Q-Network (DQN) to solve the **LunarLander-v2** environment in Gymnasium.  \n",
    "We organize the code so that:\n",
    "- **`dqn_model.py`** contains the Q-Network definition.\n",
    "- **`dqn_agent.py`** contains the replay buffer and DQN agent logic.\n",
    "- This notebook loads those modules and runs training, then plots reward over time.\n"
   ]
  },
  {
   "cell_type": "code",
   "execution_count": 11,
   "id": "359270c0",
   "metadata": {},
   "outputs": [
    {
     "name": "stdout",
     "output_type": "stream",
     "text": [
      "Note: you may need to restart the kernel to use updated packages.\n"
     ]
    }
   ],
   "source": [
    "%pip install --quiet gymnasium torch matplotlib\n"
   ]
  },
  {
   "cell_type": "code",
   "execution_count": 22,
   "id": "99f6f7bc",
   "metadata": {},
   "outputs": [],
   "source": [
    "import gymnasium as gym\n",
    "import numpy as np\n",
    "import torch\n",
    "import torch.nn.functional as F\n",
    "from collections import deque\n",
    "\n",
    "# Ensure our modules are in the Python path\n",
    "import sys\n",
    "sys.path.append('/mnt/data')\n",
    "\n",
    "from dqn_agent import DQNAgent\n"
   ]
  },
  {
   "cell_type": "code",
   "execution_count": 23,
   "id": "445a6d36",
   "metadata": {},
   "outputs": [],
   "source": [
    "# Hyperparameters\n",
    "ENV_NAME     = \"LunarLander-v3\"\n",
    "BUFFER_SIZE  = int(1e5)\n",
    "BATCH_SIZE   = 64\n",
    "GAMMA        = 0.99\n",
    "LR           = 1e-3\n",
    "TAU          = 1e-3\n",
    "UPDATE_EVERY = 4\n",
    "EPS_START    = 1.0\n",
    "EPS_END      = 0.01\n",
    "EPS_DECAY    = 0.995\n",
    "HIDDEN_DIM   = 128\n",
    "MAX_EPISODES = 500\n",
    "PRINT_EVERY  = 20\n"
   ]
  },
  {
   "cell_type": "code",
   "execution_count": 24,
   "id": "247d54b8",
   "metadata": {},
   "outputs": [
    {
     "ename": "NameError",
     "evalue": "name 'F' is not defined",
     "output_type": "error",
     "traceback": [
      "\u001b[31m---------------------------------------------------------------------------\u001b[39m",
      "\u001b[31mNameError\u001b[39m                                 Traceback (most recent call last)",
      "\u001b[36mCell\u001b[39m\u001b[36m \u001b[39m\u001b[32mIn[24]\u001b[39m\u001b[32m, line 48\u001b[39m\n\u001b[32m     33\u001b[39m env_tmp.close()\n\u001b[32m     35\u001b[39m agent = DQNAgent(\n\u001b[32m     36\u001b[39m     state_dim=state_dim,\n\u001b[32m     37\u001b[39m     action_dim=action_dim,\n\u001b[32m   (...)\u001b[39m\u001b[32m     45\u001b[39m     device=\u001b[33m'\u001b[39m\u001b[33mcpu\u001b[39m\u001b[33m'\u001b[39m\n\u001b[32m     46\u001b[39m )\n\u001b[32m---> \u001b[39m\u001b[32m48\u001b[39m scores = \u001b[43mtrain_dqn\u001b[49m\u001b[43m(\u001b[49m\u001b[43mENV_NAME\u001b[49m\u001b[43m,\u001b[49m\u001b[43m \u001b[49m\u001b[43magent\u001b[49m\u001b[43m)\u001b[49m\n",
      "\u001b[36mCell\u001b[39m\u001b[36m \u001b[39m\u001b[32mIn[24]\u001b[39m\u001b[32m, line 15\u001b[39m, in \u001b[36mtrain_dqn\u001b[39m\u001b[34m(env_name, agent, max_episodes, print_every)\u001b[39m\n\u001b[32m     13\u001b[39m next_state, reward, terminated, truncated, _ = env.step(action)\n\u001b[32m     14\u001b[39m done = terminated \u001b[38;5;129;01mor\u001b[39;00m truncated\n\u001b[32m---> \u001b[39m\u001b[32m15\u001b[39m \u001b[43magent\u001b[49m\u001b[43m.\u001b[49m\u001b[43mstep\u001b[49m\u001b[43m(\u001b[49m\u001b[43mstate\u001b[49m\u001b[43m,\u001b[49m\u001b[43m \u001b[49m\u001b[43maction\u001b[49m\u001b[43m,\u001b[49m\u001b[43m \u001b[49m\u001b[43mreward\u001b[49m\u001b[43m,\u001b[49m\u001b[43m \u001b[49m\u001b[43mnext_state\u001b[49m\u001b[43m,\u001b[49m\u001b[43m \u001b[49m\u001b[43mdone\u001b[49m\u001b[43m)\u001b[49m\n\u001b[32m     16\u001b[39m state = next_state\n\u001b[32m     17\u001b[39m score += reward\n",
      "\u001b[36mFile \u001b[39m\u001b[32m/workspaces/ECE9142_RL/dqn_agent.py:60\u001b[39m, in \u001b[36mDQNAgent.step\u001b[39m\u001b[34m(self, state, action, reward, next_state, done)\u001b[39m\n\u001b[32m     58\u001b[39m \u001b[38;5;28;01mif\u001b[39;00m \u001b[38;5;28mlen\u001b[39m(\u001b[38;5;28mself\u001b[39m.memory) > \u001b[38;5;28mself\u001b[39m.batch_size:\n\u001b[32m     59\u001b[39m     experiences = \u001b[38;5;28mself\u001b[39m.memory.sample()\n\u001b[32m---> \u001b[39m\u001b[32m60\u001b[39m     \u001b[38;5;28;43mself\u001b[39;49m\u001b[43m.\u001b[49m\u001b[43mlearn\u001b[49m\u001b[43m(\u001b[49m\u001b[43mexperiences\u001b[49m\u001b[43m,\u001b[49m\u001b[43m \u001b[49m\u001b[38;5;28;43mself\u001b[39;49m\u001b[43m.\u001b[49m\u001b[43mgamma\u001b[49m\u001b[43m)\u001b[49m\n",
      "\u001b[36mFile \u001b[39m\u001b[32m/workspaces/ECE9142_RL/dqn_agent.py:90\u001b[39m, in \u001b[36mDQNAgent.learn\u001b[39m\u001b[34m(self, experiences, gamma)\u001b[39m\n\u001b[32m     87\u001b[39m Q_expected = \u001b[38;5;28mself\u001b[39m.qnetwork_local(states).gather(\u001b[32m1\u001b[39m, actions)\n\u001b[32m     89\u001b[39m \u001b[38;5;66;03m# Compute loss\u001b[39;00m\n\u001b[32m---> \u001b[39m\u001b[32m90\u001b[39m loss = \u001b[43mF\u001b[49m.mse_loss(Q_expected, Q_targets)\n\u001b[32m     91\u001b[39m \u001b[38;5;66;03m# Minimize the loss\u001b[39;00m\n\u001b[32m     92\u001b[39m \u001b[38;5;28mself\u001b[39m.optimizer.zero_grad()\n",
      "\u001b[31mNameError\u001b[39m: name 'F' is not defined"
     ]
    }
   ],
   "source": [
    "def train_dqn(env_name, agent, max_episodes=MAX_EPISODES, print_every=PRINT_EVERY):\n",
    "    env = gym.make(env_name)\n",
    "    scores = []\n",
    "    scores_window = deque(maxlen=print_every)\n",
    "    eps = EPS_START\n",
    "\n",
    "    for i_episode in range(1, max_episodes + 1):\n",
    "        state, _ = env.reset()\n",
    "        score = 0\n",
    "        done = False\n",
    "        while not done:\n",
    "            action = agent.act(state, eps)\n",
    "            next_state, reward, terminated, truncated, _ = env.step(action)\n",
    "            done = terminated or truncated\n",
    "            agent.step(state, action, reward, next_state, done)\n",
    "            state = next_state\n",
    "            score += reward\n",
    "\n",
    "        scores_window.append(score)\n",
    "        scores.append(score)\n",
    "        eps = max(EPS_END, EPS_DECAY * eps)\n",
    "\n",
    "        if i_episode % print_every == 0:\n",
    "            print(f\"Episode {i_episode}\tAverage Score: {np.mean(scores_window):.2f}\")\n",
    "\n",
    "    env.close()\n",
    "    return scores\n",
    "\n",
    "# Instantiate agent and train\n",
    "env_tmp = gym.make(ENV_NAME)\n",
    "state_dim = env_tmp.observation_space.shape[0]\n",
    "action_dim = env_tmp.action_space.n\n",
    "env_tmp.close()\n",
    "\n",
    "agent = DQNAgent(\n",
    "    state_dim=state_dim,\n",
    "    action_dim=action_dim,\n",
    "    seed=0,\n",
    "    buffer_size=BUFFER_SIZE,\n",
    "    batch_size=BATCH_SIZE,\n",
    "    gamma=GAMMA,\n",
    "    lr=LR,\n",
    "    tau=TAU,\n",
    "    update_every=UPDATE_EVERY,\n",
    "    device='cpu'\n",
    ")\n",
    "\n",
    "scores = train_dqn(ENV_NAME, agent)\n"
   ]
  },
  {
   "cell_type": "code",
   "execution_count": null,
   "id": "dd92a22d",
   "metadata": {},
   "outputs": [],
   "source": [
    "# Plot the scores over episodes\n",
    "plt.figure(figsize=(10,5))\n",
    "plt.plot(scores, label=\"Score per Episode\")\n",
    "# Running average (window size = PRINT_EVERY)\n",
    "running_avg = np.convolve(scores, np.ones(PRINT_EVERY)/PRINT_EVERY, mode='valid')\n",
    "plt.plot(np.arange(len(running_avg)) + PRINT_EVERY - 1, running_avg, color='orange', label=f\"{PRINT_EVERY}-episode avg\")\n",
    "plt.xlabel(\"Episode\")\n",
    "plt.ylabel(\"Score\")\n",
    "plt.title(\"DQN on LunarLander-v2\")\n",
    "plt.legend()\n",
    "plt.show()\n"
   ]
  }
 ],
 "metadata": {
  "kernelspec": {
   "display_name": "Python 3",
   "language": "python",
   "name": "python3"
  },
  "language_info": {
   "codemirror_mode": {
    "name": "ipython",
    "version": 3
   },
   "file_extension": ".py",
   "mimetype": "text/x-python",
   "name": "python",
   "nbconvert_exporter": "python",
   "pygments_lexer": "ipython3",
   "version": "3.12.1"
  }
 },
 "nbformat": 4,
 "nbformat_minor": 5
}
